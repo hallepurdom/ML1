{
 "cells": [
  {
   "cell_type": "markdown",
   "id": "c1f5572d",
   "metadata": {},
   "source": [
    "# Lab 2: Classification\n",
    "\n",
    "## Group 1: Kebur Fantahun, Eli Kravez, Halle Purdom, Anthony Egbuniwe\n",
    "\n",
    "#### Reference: 06. The Grand Poobah Classification Notebook\n",
    "\n",
    "To run this notebook, place bank-additional-full.csv dataset in the same folder as this notebook. \n",
    "\n",
    "This notebook takes about 11.5 minutes to run. "
   ]
  },
  {
   "cell_type": "code",
   "execution_count": 1,
   "id": "dfa55aa6",
   "metadata": {},
   "outputs": [],
   "source": [
    "# Starting timer for notebook\n",
    "import time\n",
    "global_t_start = time.time()"
   ]
  },
  {
   "cell_type": "code",
   "execution_count": 2,
   "id": "ea565651",
   "metadata": {},
   "outputs": [],
   "source": [
    "#Import Libraries\n",
    "\n",
    "import pandas as pd\n",
    "import numpy as np\n",
    "\n",
    "# Correlation heatmap\n",
    "import seaborn as sns\n",
    "import matplotlib.pyplot as plt\n",
    "\n",
    "# Train/test split\n",
    "from sklearn.model_selection import ShuffleSplit \n",
    "from sklearn.model_selection import train_test_split \n",
    "\n",
    "# Logistic Regression\n",
    "from sklearn.linear_model import LogisticRegression\n",
    "from sklearn import metrics as mt\n",
    "from sklearn.metrics import confusion_matrix, accuracy_score, precision_score, recall_score, f1_score\n",
    "import time\n",
    "from sklearn.metrics import roc_curve\n",
    "from sklearn.metrics import roc_auc_score\n",
    "from sklearn.metrics import confusion_matrix\n",
    "from sklearn.metrics import classification_report\n",
    "from sklearn.model_selection import cross_val_score\n",
    "from ipywidgets import widgets as wd\n",
    "\n",
    "from sklearn.preprocessing import StandardScaler # Normalize\n",
    "\n",
    "# SVM\n",
    "from sklearn.svm import SVC\n",
    "from pandas.plotting import boxplot\n",
    "\n",
    "from sklearn.utils import resample\n",
    "from sklearn.metrics import roc_curve, auc\n",
    "\n",
    "from sklearn import model_selection\n",
    "from sklearn.metrics import accuracy_score, log_loss, precision_score, recall_score, f1_score\n",
    "\n",
    "from sklearn.neighbors import KNeighborsClassifier\n",
    "from sklearn.tree import DecisionTreeClassifier\n",
    "from sklearn.ensemble import RandomForestClassifier\n",
    "from sklearn.ensemble import ExtraTreesClassifier\n",
    "from sklearn.linear_model import LogisticRegression\n",
    "from sklearn.naive_bayes import GaussianNB\n",
    "\n",
    "import seaborn as sns\n",
    "\n",
    "from sklearn import linear_model\n",
    "from sklearn.feature_selection import  RFECV\n",
    "from sklearn.model_selection import StratifiedKFold \n",
    "from sklearn.model_selection import ShuffleSplit \n",
    "from sklearn.ensemble import RandomForestRegressor\n",
    "\n",
    "from sklearn.model_selection import GridSearchCV\n",
    "from sklearn.model_selection import train_test_split \n",
    "from sklearn.model_selection import RepeatedStratifiedKFold\n",
    "\n",
    "\n",
    "from sklearn.tree import DecisionTreeRegressor\n",
    "from sklearn.ensemble import RandomForestRegressor\n",
    "from sklearn.linear_model import LinearRegression\n",
    "from sklearn.svm import LinearSVR\n",
    "from sklearn.svm import SVR\n",
    "from sklearn.neighbors import KNeighborsRegressor\n",
    "\n",
    "import warnings\n",
    "warnings.filterwarnings(\"ignore\")"
   ]
  },
  {
   "cell_type": "markdown",
   "id": "02cc4542",
   "metadata": {},
   "source": [
    "## Data Preparation"
   ]
  },
  {
   "cell_type": "code",
   "execution_count": 3,
   "id": "8cd6c2ef",
   "metadata": {},
   "outputs": [
    {
     "name": "stdout",
     "output_type": "stream",
     "text": [
      "<class 'pandas.core.frame.DataFrame'>\n",
      "Int64Index: 41176 entries, 0 to 41187\n",
      "Data columns (total 21 columns):\n",
      " #   Column          Non-Null Count  Dtype  \n",
      "---  ------          --------------  -----  \n",
      " 0   age             41176 non-null  int64  \n",
      " 1   job             41176 non-null  object \n",
      " 2   marital         41176 non-null  object \n",
      " 3   education       41176 non-null  object \n",
      " 4   default         41176 non-null  object \n",
      " 5   housing         41176 non-null  object \n",
      " 6   loan            41176 non-null  object \n",
      " 7   contact         41176 non-null  object \n",
      " 8   month           41176 non-null  object \n",
      " 9   day_of_week     41176 non-null  object \n",
      " 10  duration        41176 non-null  int64  \n",
      " 11  campaign        41176 non-null  int64  \n",
      " 12  pdays           41176 non-null  int64  \n",
      " 13  previous        41176 non-null  int64  \n",
      " 14  poutcome        41176 non-null  object \n",
      " 15  emp.var.rate    41176 non-null  float64\n",
      " 16  cons.price.idx  41176 non-null  float64\n",
      " 17  cons.conf.idx   41176 non-null  float64\n",
      " 18  euribor3m       41176 non-null  float64\n",
      " 19  nr.employed     41176 non-null  float64\n",
      " 20  y               41176 non-null  object \n",
      "dtypes: float64(5), int64(5), object(11)\n",
      "memory usage: 6.9+ MB\n"
     ]
    }
   ],
   "source": [
    "# Read in the data\n",
    "bank_df = pd.read_csv(\"bank-additional-full.csv\", sep=';')\n",
    "# Drop duplicate rows from the data\n",
    "bank_df.drop_duplicates(keep='first', inplace=True)\n",
    "\n",
    "bank_df.info()\n",
    "\n",
    "categ_features = ['job', 'marital', 'default', 'housing', 'loan', 'contact', 'month', 'day_of_week', 'education','poutcome','age']\n",
    "continuous_features = ['duration', 'campaign', 'pdays', 'previous', 'emp.var.rate', 'cons.price.idx', \n",
    "                       'cons.conf.idx', 'euribor3m', 'nr.employed']"
   ]
  },
  {
   "cell_type": "code",
   "execution_count": 4,
   "id": "cc06ad4a",
   "metadata": {},
   "outputs": [],
   "source": [
    "# Normalization of the continuous variables\n",
    "scl_obj = StandardScaler()\n",
    "scl_obj.fit(bank_df[continuous_features]) \n",
    "\n",
    "bank_df[continuous_features] = scl_obj.transform(bank_df[continuous_features]) \n",
    "\n",
    "# Changing class 'y' variable into integer values; 'No'=0, 'Yes'=1\n",
    "bank_df.y = (bank_df[['y']].y == 'yes').astype('int')\n",
    "\n",
    "# Putting age into bins\n",
    "bins = [18, 30, 40, 50, 120]\n",
    "labels = [1, 2, 3, 4]\n",
    "bank_df['age'] = pd.cut(bank_df.age, bins, labels = labels,include_lowest = True)\n",
    "\n",
    "# One hot encoding for categorical variables\n",
    "bank_df_processed = pd.get_dummies(bank_df)"
   ]
  },
  {
   "cell_type": "code",
   "execution_count": 5,
   "id": "fc58b6ca",
   "metadata": {},
   "outputs": [
    {
     "data": {
      "text/html": [
       "<div>\n",
       "<style scoped>\n",
       "    .dataframe tbody tr th:only-of-type {\n",
       "        vertical-align: middle;\n",
       "    }\n",
       "\n",
       "    .dataframe tbody tr th {\n",
       "        vertical-align: top;\n",
       "    }\n",
       "\n",
       "    .dataframe thead th {\n",
       "        text-align: right;\n",
       "    }\n",
       "</style>\n",
       "<table border=\"1\" class=\"dataframe\">\n",
       "  <thead>\n",
       "    <tr style=\"text-align: right;\">\n",
       "      <th></th>\n",
       "      <th>duration</th>\n",
       "      <th>campaign</th>\n",
       "      <th>pdays</th>\n",
       "      <th>previous</th>\n",
       "      <th>emp.var.rate</th>\n",
       "      <th>cons.price.idx</th>\n",
       "      <th>cons.conf.idx</th>\n",
       "      <th>euribor3m</th>\n",
       "      <th>nr.employed</th>\n",
       "      <th>y</th>\n",
       "      <th>...</th>\n",
       "      <th>month_oct</th>\n",
       "      <th>month_sep</th>\n",
       "      <th>day_of_week_fri</th>\n",
       "      <th>day_of_week_mon</th>\n",
       "      <th>day_of_week_thu</th>\n",
       "      <th>day_of_week_tue</th>\n",
       "      <th>day_of_week_wed</th>\n",
       "      <th>poutcome_failure</th>\n",
       "      <th>poutcome_nonexistent</th>\n",
       "      <th>poutcome_success</th>\n",
       "    </tr>\n",
       "  </thead>\n",
       "  <tbody>\n",
       "    <tr>\n",
       "      <th>0</th>\n",
       "      <td>0.010352</td>\n",
       "      <td>-0.565963</td>\n",
       "      <td>0.195443</td>\n",
       "      <td>-0.349551</td>\n",
       "      <td>0.648101</td>\n",
       "      <td>0.722628</td>\n",
       "      <td>0.886568</td>\n",
       "      <td>0.712463</td>\n",
       "      <td>0.331695</td>\n",
       "      <td>0</td>\n",
       "      <td>...</td>\n",
       "      <td>0</td>\n",
       "      <td>0</td>\n",
       "      <td>0</td>\n",
       "      <td>1</td>\n",
       "      <td>0</td>\n",
       "      <td>0</td>\n",
       "      <td>0</td>\n",
       "      <td>0</td>\n",
       "      <td>1</td>\n",
       "      <td>0</td>\n",
       "    </tr>\n",
       "    <tr>\n",
       "      <th>1</th>\n",
       "      <td>-0.421577</td>\n",
       "      <td>-0.565963</td>\n",
       "      <td>0.195443</td>\n",
       "      <td>-0.349551</td>\n",
       "      <td>0.648101</td>\n",
       "      <td>0.722628</td>\n",
       "      <td>0.886568</td>\n",
       "      <td>0.712463</td>\n",
       "      <td>0.331695</td>\n",
       "      <td>0</td>\n",
       "      <td>...</td>\n",
       "      <td>0</td>\n",
       "      <td>0</td>\n",
       "      <td>0</td>\n",
       "      <td>1</td>\n",
       "      <td>0</td>\n",
       "      <td>0</td>\n",
       "      <td>0</td>\n",
       "      <td>0</td>\n",
       "      <td>1</td>\n",
       "      <td>0</td>\n",
       "    </tr>\n",
       "    <tr>\n",
       "      <th>2</th>\n",
       "      <td>-0.124626</td>\n",
       "      <td>-0.565963</td>\n",
       "      <td>0.195443</td>\n",
       "      <td>-0.349551</td>\n",
       "      <td>0.648101</td>\n",
       "      <td>0.722628</td>\n",
       "      <td>0.886568</td>\n",
       "      <td>0.712463</td>\n",
       "      <td>0.331695</td>\n",
       "      <td>0</td>\n",
       "      <td>...</td>\n",
       "      <td>0</td>\n",
       "      <td>0</td>\n",
       "      <td>0</td>\n",
       "      <td>1</td>\n",
       "      <td>0</td>\n",
       "      <td>0</td>\n",
       "      <td>0</td>\n",
       "      <td>0</td>\n",
       "      <td>1</td>\n",
       "      <td>0</td>\n",
       "    </tr>\n",
       "    <tr>\n",
       "      <th>3</th>\n",
       "      <td>-0.413864</td>\n",
       "      <td>-0.565963</td>\n",
       "      <td>0.195443</td>\n",
       "      <td>-0.349551</td>\n",
       "      <td>0.648101</td>\n",
       "      <td>0.722628</td>\n",
       "      <td>0.886568</td>\n",
       "      <td>0.712463</td>\n",
       "      <td>0.331695</td>\n",
       "      <td>0</td>\n",
       "      <td>...</td>\n",
       "      <td>0</td>\n",
       "      <td>0</td>\n",
       "      <td>0</td>\n",
       "      <td>1</td>\n",
       "      <td>0</td>\n",
       "      <td>0</td>\n",
       "      <td>0</td>\n",
       "      <td>0</td>\n",
       "      <td>1</td>\n",
       "      <td>0</td>\n",
       "    </tr>\n",
       "    <tr>\n",
       "      <th>4</th>\n",
       "      <td>0.187751</td>\n",
       "      <td>-0.565963</td>\n",
       "      <td>0.195443</td>\n",
       "      <td>-0.349551</td>\n",
       "      <td>0.648101</td>\n",
       "      <td>0.722628</td>\n",
       "      <td>0.886568</td>\n",
       "      <td>0.712463</td>\n",
       "      <td>0.331695</td>\n",
       "      <td>0</td>\n",
       "      <td>...</td>\n",
       "      <td>0</td>\n",
       "      <td>0</td>\n",
       "      <td>0</td>\n",
       "      <td>1</td>\n",
       "      <td>0</td>\n",
       "      <td>0</td>\n",
       "      <td>0</td>\n",
       "      <td>0</td>\n",
       "      <td>1</td>\n",
       "      <td>0</td>\n",
       "    </tr>\n",
       "  </tbody>\n",
       "</table>\n",
       "<p>5 rows × 67 columns</p>\n",
       "</div>"
      ],
      "text/plain": [
       "   duration  campaign     pdays  previous  emp.var.rate  cons.price.idx  \\\n",
       "0  0.010352 -0.565963  0.195443 -0.349551      0.648101        0.722628   \n",
       "1 -0.421577 -0.565963  0.195443 -0.349551      0.648101        0.722628   \n",
       "2 -0.124626 -0.565963  0.195443 -0.349551      0.648101        0.722628   \n",
       "3 -0.413864 -0.565963  0.195443 -0.349551      0.648101        0.722628   \n",
       "4  0.187751 -0.565963  0.195443 -0.349551      0.648101        0.722628   \n",
       "\n",
       "   cons.conf.idx  euribor3m  nr.employed  y  ...  month_oct  month_sep  \\\n",
       "0       0.886568   0.712463     0.331695  0  ...          0          0   \n",
       "1       0.886568   0.712463     0.331695  0  ...          0          0   \n",
       "2       0.886568   0.712463     0.331695  0  ...          0          0   \n",
       "3       0.886568   0.712463     0.331695  0  ...          0          0   \n",
       "4       0.886568   0.712463     0.331695  0  ...          0          0   \n",
       "\n",
       "   day_of_week_fri  day_of_week_mon  day_of_week_thu  day_of_week_tue  \\\n",
       "0                0                1                0                0   \n",
       "1                0                1                0                0   \n",
       "2                0                1                0                0   \n",
       "3                0                1                0                0   \n",
       "4                0                1                0                0   \n",
       "\n",
       "   day_of_week_wed  poutcome_failure  poutcome_nonexistent  poutcome_success  \n",
       "0                0                 0                     1                 0  \n",
       "1                0                 0                     1                 0  \n",
       "2                0                 0                     1                 0  \n",
       "3                0                 0                     1                 0  \n",
       "4                0                 0                     1                 0  \n",
       "\n",
       "[5 rows x 67 columns]"
      ]
     },
     "execution_count": 5,
     "metadata": {},
     "output_type": "execute_result"
    }
   ],
   "source": [
    "# Checking dataset after above transformations\n",
    "bank_df_processed.head()"
   ]
  },
  {
   "cell_type": "markdown",
   "id": "39dde11d",
   "metadata": {},
   "source": [
    "In order to prepare our dataset for the classification and regression model creation, first we dropped all duplicate rows. The continuous variables where then normalized and the categorical variables one hot encoded into dummy variables. Our binary class variable 'y' was converted to integer values 0 and 1, where 0 represents 'no' and 1 represents 'yes'. Lastly, we transformed the continuous age attribute to a categorical attribute by using age bins. "
   ]
  },
  {
   "cell_type": "markdown",
   "id": "ced05b84",
   "metadata": {},
   "source": [
    "## Train Test Split"
   ]
  },
  {
   "cell_type": "code",
   "execution_count": 6,
   "id": "f9b2cb0f",
   "metadata": {},
   "outputs": [],
   "source": [
    "# Defining train and test split for downsampling\n",
    "X_train,X_test = train_test_split(bank_df_processed  ,  test_size=0.2,random_state=444)"
   ]
  },
  {
   "cell_type": "code",
   "execution_count": 7,
   "id": "250755b7",
   "metadata": {},
   "outputs": [],
   "source": [
    "# Look at dataset before downsample\n",
    "y_count_yes = X_train['y'].value_counts()[1]"
   ]
  },
  {
   "cell_type": "code",
   "execution_count": 8,
   "id": "abe5d198",
   "metadata": {},
   "outputs": [
    {
     "data": {
      "text/plain": [
       "0    3667\n",
       "1    3667\n",
       "Name: y, dtype: int64"
      ]
     },
     "execution_count": 8,
     "metadata": {},
     "output_type": "execute_result"
    }
   ],
   "source": [
    "# Downsampling the dataset\n",
    "train_no = X_train[X_train['y']==0]\n",
    "train_yes = X_train[X_train['y']==1]\n",
    "\n",
    "train_downsample_no = resample(train_no, replace=False, n_samples=y_count_yes, random_state=444) \n",
    "\n",
    "train_downsample = pd.concat([train_yes, train_downsample_no])\n",
    "\n",
    "# Show distribution after downsampling\n",
    "train_downsample['y'].value_counts()\n"
   ]
  },
  {
   "cell_type": "code",
   "execution_count": 9,
   "id": "716b8660",
   "metadata": {},
   "outputs": [],
   "source": [
    "# Defining actual train and test splits\n",
    "X_train_new = train_downsample.drop('y', axis=1)\n",
    "y_train_new = train_downsample['y']\n",
    "\n",
    "X_test_new = X_test.drop('y', axis=1)\n",
    "y_test_new = X_test['y']\n"
   ]
  },
  {
   "cell_type": "markdown",
   "id": "b4c99a15",
   "metadata": {},
   "source": [
    "#### Down Sampling\n",
    "Because we were dealing with a highly imbalanced class variable, we looked at many options for splitting the dataset. Many considerations were contained in the sklearn.model_selection library such as ShuffleSplit, RepeatedStratifiedKFold and others. Ultimately we chose to downsample the dataset, which is making the class distribution equal among the training data by only training on a subset of the majority class. In this case, the majority class would be the “no” class, or those who did not subscribe to a term deposit. \n",
    "\n",
    "In looking at the broader context of the dataset, the bank wants to analyze the success of their telemarketing by properly predicting whether or not a customer will subscribe to a term deposit. Using these results, the bank would then be able to look at an incoming customer, and use the classification algorithm to tell them whether or not the specific customer will subscribe. It is in their best interest to better predict the success or ‘yes’ class because that would indicate more profit for the bank, and early on they can devote more of their resources towards those who are likely to subscribe. \n",
    "\n",
    "Taking this into consideration, we would rather have a situation where we can better predict the success class, and minimize the amount of false negatives (customers who will subscribe that were predicted to not). It is better for the bank to devote resources to a customer who was predicted to subscribe and doesn’t rather than not devoting resources to a customer who would have subscribed but was predicted not to. In downsampling, we will better predict this success class while sacrificing some of the predicting power for the class that didn’t subscribe. This aligns with maximizing our classification metric, recall, which was further explained above. In downsampling the dataset, the recall metric is maximized for our models. \n",
    "\n",
    "#### Grid Search Cross Validation\n",
    "In order to feature select and tune the parameters of each model, we are using grid search. During each grid search, cross validation is used only on the training set of data. After grid search determines the best parameters for each model, the model is implemented on our training data set and its metrics are evaluated. "
   ]
  },
  {
   "cell_type": "markdown",
   "id": "a23eaf65",
   "metadata": {},
   "source": [
    "## Evaluation Metric for Classification and Regression Tasks"
   ]
  },
  {
   "cell_type": "markdown",
   "id": "9caaa4d6",
   "metadata": {},
   "source": [
    "The evaluation metrics included are accuracy, precision, recall, and the F-score. The choice of metrics is based on the types of analysis done -- Classification and Regression. For Classification, interest lies in: accuracy for correctly placing the binary test data, precision for knowing the spread of the models’ guess, recall for assuring the number of correct predictions are high and the number of incorrect predictions are low, the F-score, built out of precision and recall, is another measure of the models accuracy. Recall is a priority for the bank data as asking for a high recall minimizes false negatives. This will yield more profit because correctly classifying a person as a ‘yes’ to subscribing to a term deposit in general should increase the number of subscriptions.   "
   ]
  },
  {
   "cell_type": "markdown",
   "id": "dfdbdaaa",
   "metadata": {},
   "source": [
    "## Task One: Classification"
   ]
  },
  {
   "cell_type": "markdown",
   "id": "b835caaf",
   "metadata": {},
   "source": [
    "For our first task, we created binary classification models that predict whether or not a customer will subscribe to a term deposit. The types of classifiers we explored include a logistic regression classifier, a random forest classifier, decision tree classifiers (stump and tree), and a k-nearest neighbors classifier."
   ]
  },
  {
   "cell_type": "code",
   "execution_count": 10,
   "id": "8f6305c9",
   "metadata": {
    "scrolled": false
   },
   "outputs": [
    {
     "name": "stdout",
     "output_type": "stream",
     "text": [
      "Stump Accuracy= 0.6762991743564837\n",
      "Stump precision= 0.24239659367396593\n",
      "Stump recall= 0.8199588477366255\n",
      " \n",
      "[[4773 2491]\n",
      " [ 175  797]]\n",
      "----------------------------------------------------------\n",
      "Tree Accuracy= 0.8369354055366682\n",
      "Tree precision= 0.40607594936708863\n",
      "Tree recall= 0.8251028806584362\n",
      " \n",
      "[[6091 1173]\n",
      " [ 170  802]]\n",
      "----------------------------------------------------------\n",
      "Random Trees Accuracy= 0.8574550752792618\n",
      "Random Trees precision= 0.45039292730844793\n",
      "Random Trees recall= 0.9434156378600823\n",
      " \n",
      "[[6145 1119]\n",
      " [  55  917]]\n",
      "----------------------------------------------------------\n",
      "Extra Random Trees Accuracy= 0.8491986401165614\n",
      "Extra Random Trees precision= 0.4302685950413223\n",
      "Extra Random Trees recall= 0.8569958847736625\n",
      " \n",
      "[[6161 1103]\n",
      " [ 139  833]]\n",
      "----------------------------------------------------------\n",
      "KNN Accuracy= 0.8595191840699369\n",
      "KNN precision= 0.45113576333861594\n",
      "KNN recall= 0.8786008230452675\n",
      " \n",
      "[[6225 1039]\n",
      " [ 118  854]]\n",
      "----------------------------------------------------------\n",
      "LR Accuracy= 0.866318601262749\n",
      "LR precision= 0.4655264564404062\n",
      "LR recall= 0.8960905349794238\n",
      " \n",
      "[[6264 1000]\n",
      " [ 101  871]]\n",
      "----------------------------------------------------------\n"
     ]
    },
    {
     "data": {
      "image/png": "[encoded data removed]",
      "text/plain": [
       "<Figure size 432x288 with 1 Axes>"
      ]
     },
     "metadata": {
      "needs_background": "light"
     },
     "output_type": "display_data"
    }
   ],
   "source": [
    "# Setting estimator number for random forest and random tree classifiers\n",
    "num_estimators = 50\n",
    "# Defining all classifiers to be used\n",
    "clf_array = [\n",
    "    ('Stump',              DecisionTreeClassifier(max_depth=1, min_samples_leaf=1)),\n",
    "    ('Tree',               DecisionTreeClassifier()),\n",
    "    ('Random Trees',       RandomForestClassifier(max_depth=50, n_estimators=num_estimators)),\n",
    "    ('Extra Random Trees', ExtraTreesClassifier(n_estimators=num_estimators,min_samples_split=2)),\n",
    "    ('KNN', KNeighborsClassifier(10)),\n",
    "    ('LR', LogisticRegression(max_iter = 100))\n",
    "    ]\n",
    "\n",
    "# Evaluation metrics\n",
    "model_dict = pd.DataFrame(columns=[\"Model\", \"recall\", \"roc_auc\"])\n",
    "\n",
    "plt.clf()\n",
    "\n",
    "# Fit each classification model to training data, print metrics\n",
    "for name, model in clf_array:\n",
    "    model.fit(X_train_new, y_train_new)\n",
    "    train_predictions = model.predict(X_test_new)\n",
    "    \n",
    "    acc = accuracy_score(y_test_new, train_predictions)\n",
    "    print (name, \"Accuracy=\", acc)\n",
    "    \n",
    "    precision = precision_score(y_test_new, train_predictions)\n",
    "    print (name, \"precision=\", precision)\n",
    "    \n",
    "    recall = recall_score(y_test_new, train_predictions)\n",
    "    print (name, \"recall=\", recall)\n",
    "    print(' ')\n",
    "\n",
    "    predict_proba = model.predict_proba(X_test_new)[:,1]\n",
    "\n",
    "    fpr, tpr, thresholds = roc_curve(y_test_new, predict_proba)\n",
    "    roc_auc = auc(fpr, tpr)\n",
    "    \n",
    "    model_info = pd.DataFrame([[name, recall, roc_auc]], columns=[\"Model\", \"recall\", \"roc_auc\"])\n",
    "    model_dict = model_dict.append(model_info)\n",
    "    \n",
    "    cm = confusion_matrix(y_test_new, train_predictions)\n",
    "    print(cm)\n",
    "\n",
    "    \n",
    "    print('----------------------------------------------------------')\n",
    "    plt.plot(fpr, tpr, label='%s ROC= %0.2f' % (name, roc_auc))\n",
    "\n",
    "# Graph ROC curves for each classification model\n",
    "plt.xlabel('False Positive')\n",
    "plt.ylabel('True Positive')\n",
    "plt.title('ROC')\n",
    "plt.legend()\n",
    "plt.show()"
   ]
  },
  {
   "cell_type": "code",
   "execution_count": 11,
   "id": "dc649ffd",
   "metadata": {
    "scrolled": true
   },
   "outputs": [
    {
     "data": {
      "text/plain": [
       "<AxesSubplot:xlabel='Model', ylabel='recall'>"
      ]
     },
     "execution_count": 11,
     "metadata": {},
     "output_type": "execute_result"
    },
    {
     "data": {
      "image/png": "[encoded data removed]",
      "text/plain": [
       "<Figure size 1080x576 with 1 Axes>"
      ]
     },
     "metadata": {
      "needs_background": "light"
     },
     "output_type": "display_data"
    }
   ],
   "source": [
    "# Compare recall of each classification model\n",
    "plt.figure(figsize=(15,8))\n",
    "sns.barplot(y='recall', x='Model', data=model_dict)"
   ]
  },
  {
   "cell_type": "markdown",
   "id": "84381b02",
   "metadata": {},
   "source": [
    "### Random Forest Feature Selection and Parameter Tuning"
   ]
  },
  {
   "cell_type": "code",
   "execution_count": 12,
   "id": "a5741e7c",
   "metadata": {},
   "outputs": [
    {
     "name": "stdout",
     "output_type": "stream",
     "text": [
      "Number of features: 38\n"
     ]
    }
   ],
   "source": [
    "# Feature selection RFE CV with random forest classifier\n",
    "rfc = RandomForestClassifier(random_state=444)\n",
    "rfecv = RFECV(estimator=rfc, step=1, cv=ShuffleSplit(n_splits=5, test_size=0.20, random_state=444), scoring='r2')\n",
    "rfecv.fit(X_train_new, y_train_new)\n",
    "\n",
    "print('Number of features: {}'.format(rfecv.n_features_))"
   ]
  },
  {
   "cell_type": "code",
   "execution_count": 13,
   "id": "64999384",
   "metadata": {},
   "outputs": [
    {
     "data": {
      "image/png": "[encoded data removed]",
      "text/plain": [
       "<Figure size 432x288 with 1 Axes>"
      ]
     },
     "metadata": {
      "needs_background": "light"
     },
     "output_type": "display_data"
    }
   ],
   "source": [
    "# Plot random forest RFE CV feature selection \n",
    "import matplotlib.pyplot as plt\n",
    "\n",
    "plt.title('RFE + Cross Validation')\n",
    "plt.xlabel('Number of features')\n",
    "plt.ylabel('% Correct')\n",
    "plt.plot(range(1, len(rfecv.grid_scores_) + 1), rfecv.grid_scores_)\n",
    "\n",
    "plt.show()"
   ]
  },
  {
   "cell_type": "code",
   "execution_count": 14,
   "id": "ac72661f",
   "metadata": {},
   "outputs": [
    {
     "data": {
      "text/plain": [
       "Index(['duration', 'campaign', 'pdays', 'previous', 'emp.var.rate',\n",
       "       'cons.price.idx', 'cons.conf.idx', 'euribor3m', 'nr.employed', 'age_1',\n",
       "       'age_2', 'age_3', 'age_4', 'job_admin.', 'job_blue-collar',\n",
       "       'job_entrepreneur', 'job_housemaid', 'job_management', 'job_retired',\n",
       "       'job_self-employed', 'job_services', 'job_student', 'job_technician',\n",
       "       'job_unemployed', 'job_unknown', 'marital_divorced', 'marital_married',\n",
       "       'marital_single', 'marital_unknown', 'education_basic.4y',\n",
       "       'education_basic.6y', 'education_basic.9y', 'education_high.school',\n",
       "       'education_illiterate', 'education_professional.course',\n",
       "       'education_university.degree', 'education_unknown', 'default_no',\n",
       "       'default_unknown', 'default_yes', 'housing_no', 'housing_unknown',\n",
       "       'housing_yes', 'loan_no', 'loan_unknown', 'loan_yes',\n",
       "       'contact_cellular', 'contact_telephone', 'month_apr', 'month_aug',\n",
       "       'month_dec', 'month_jul', 'month_jun', 'month_mar', 'month_may',\n",
       "       'month_nov', 'month_oct', 'month_sep', 'day_of_week_fri',\n",
       "       'day_of_week_mon', 'day_of_week_thu', 'day_of_week_tue',\n",
       "       'day_of_week_wed', 'poutcome_failure', 'poutcome_nonexistent',\n",
       "       'poutcome_success'],\n",
       "      dtype='object')"
      ]
     },
     "execution_count": 14,
     "metadata": {},
     "output_type": "execute_result"
    }
   ],
   "source": [
    "# Looking at all features to compare to below random forest chosen features\n",
    "X_train_new.columns"
   ]
  },
  {
   "cell_type": "code",
   "execution_count": 15,
   "id": "d56c5b6f",
   "metadata": {},
   "outputs": [
    {
     "data": {
      "image/png": "[encoded data removed]",
      "text/plain": [
       "<Figure size 1080x576 with 1 Axes>"
      ]
     },
     "metadata": {
      "needs_background": "light"
     },
     "output_type": "display_data"
    }
   ],
   "source": [
    "# Plot feature importance from random forest classifier\n",
    "plt.figure(figsize=(15,8))\n",
    "X_random_forest_important=X_train_new[X_train_new.columns[np.where(rfecv.support_ == True)[0]]]\n",
    "\n",
    "feature_importance = pd.DataFrame()\n",
    "feature_importance['feature'] = X_random_forest_important.columns\n",
    "feature_importance['importance'] = rfecv.estimator_.feature_importances_\n",
    "\n",
    "feature_importance = feature_importance.sort_values(by='importance', ascending=True)\n",
    "\n",
    "plt.barh(y=feature_importance['feature'], width=feature_importance['importance'])\n",
    "plt.title('Random Forest - Feature Importances')\n",
    "plt.xlabel('Importance')\n",
    "plt.ylabel('Features')\n",
    "plt.show()"
   ]
  },
  {
   "cell_type": "code",
   "execution_count": 16,
   "id": "f133b4f8",
   "metadata": {},
   "outputs": [
    {
     "name": "stdout",
     "output_type": "stream",
     "text": [
      "Fitting 3 folds for each of 288 candidates, totalling 864 fits\n",
      "Best params: 0.925280 using {'bootstrap': True, 'max_depth': 80, 'max_features': 3, 'min_samples_leaf': 5, 'min_samples_split': 10, 'n_estimators': 300}\n"
     ]
    }
   ],
   "source": [
    "# Parameter optimization using grid search for random forest classifier\n",
    "\n",
    "# Using chosen features from feature selection\n",
    "X_train_imp = X_train_new[X_train_new.columns[np.where(rfecv.support_ == True)[0]]]\n",
    "X_test_imp = X_test_new[X_train_new.columns[np.where(rfecv.support_ == True)[0]]]\n",
    "\n",
    "\n",
    "# Create the parameter grid based on the results of random search \n",
    "param_grid = {\n",
    "    'bootstrap': [True],\n",
    "    'max_depth': [80, 90, 100, 110],\n",
    "    'max_features': [2, 3],\n",
    "    'min_samples_leaf': [3, 4, 5],\n",
    "    'min_samples_split': [8, 10, 12],\n",
    "    'n_estimators': [100, 200, 300, 1000]\n",
    "}\n",
    "# Create a based model\n",
    "rf = RandomForestClassifier()\n",
    "# Instantiate the grid search model\n",
    "cv = RepeatedStratifiedKFold(n_splits=10, n_repeats=3, random_state=444)\n",
    "grid_search = GridSearchCV(estimator = rf, param_grid = param_grid, \n",
    "                          cv = 3, n_jobs = -1, verbose = 2, scoring='recall') \n",
    "\n",
    "grid_result = grid_search.fit(X_train_imp, y_train_new)\n",
    "\n",
    "# summarize results\n",
    "print(\"Best params: %f using %s\" % (grid_result.best_score_, grid_result.best_params_))"
   ]
  },
  {
   "cell_type": "code",
   "execution_count": 17,
   "id": "022f5b4f",
   "metadata": {},
   "outputs": [
    {
     "name": "stdout",
     "output_type": "stream",
     "text": [
      "[[6048 1216]\n",
      " [  60  912]]\n",
      "accuracy = 0.85\n",
      "precision = 0.43\n",
      "recall = 0.94\n"
     ]
    }
   ],
   "source": [
    "# Using best parameters from grid search \n",
    "## After using grid search on the train set, we used the optimized parameters and test the model on the train set\n",
    "RandomForest = RandomForestClassifier(bootstrap= True, max_depth= 110, max_features= 3, min_samples_leaf= 4, min_samples_split=12, n_estimators= 100)\n",
    "RandomForest.fit(X_train_imp, y_train_new)\n",
    "y_pred = RandomForest.predict(X_test_imp)\n",
    "\n",
    "\n",
    "cm = confusion_matrix(y_test_new, y_pred)\n",
    "print(cm)\n",
    "\n",
    "accuracy = accuracy_score(y_test_new, y_pred)\n",
    "precision = mt.precision_score(y_test_new, y_pred)\n",
    "recall = mt.recall_score(y_test_new, y_pred)\n",
    "\n",
    "print(\"accuracy = %0.2f\" %accuracy)\n",
    "print(\"precision = %0.2f\" %precision)\n",
    "print(\"recall = %0.2f\" %recall)"
   ]
  },
  {
   "cell_type": "markdown",
   "id": "8489d138",
   "metadata": {},
   "source": [
    "### Logistic Regression Classifier Feature Selection and Parameter Tuning"
   ]
  },
  {
   "cell_type": "code",
   "execution_count": 18,
   "id": "a1961579",
   "metadata": {},
   "outputs": [
    {
     "data": {
      "text/plain": [
       "GridSearchCV(cv=10, estimator=LogisticRegression(),\n",
       "             param_grid={'C': [0.001, 0.01, 0.1, 1, 10, 100, 1000],\n",
       "                         'penalty': ['l1', 'l2'],\n",
       "                         'solver': ['liblinear', 'saga']})"
      ]
     },
     "execution_count": 18,
     "metadata": {},
     "output_type": "execute_result"
    }
   ],
   "source": [
    "# Grid search for logistic regression with cross validation\n",
    "grid={ 'penalty':[\"l1\",\"l2\"],'C':[0.001,0.01,0.1,1,10,100,1000],'solver':['liblinear','saga']}\n",
    "logreg=LogisticRegression()\n",
    "logreg_cv=GridSearchCV(logreg,grid,cv=10)\n",
    "logreg_cv.fit(X_train_new, y_train_new)"
   ]
  },
  {
   "cell_type": "code",
   "execution_count": 19,
   "id": "9b6316bb",
   "metadata": {},
   "outputs": [
    {
     "name": "stdout",
     "output_type": "stream",
     "text": [
      "tuned hpyerparameters :(best parameters)  {'C': 10, 'penalty': 'l1', 'solver': 'liblinear'}\n",
      "accuracy : 0.8636524157004732\n"
     ]
    }
   ],
   "source": [
    "# Results of grid search\n",
    "print(\"tuned hpyerparameters :(best parameters) \",logreg_cv.best_params_)\n",
    "print(\"accuracy :\",logreg_cv.best_score_)\n"
   ]
  },
  {
   "cell_type": "code",
   "execution_count": 20,
   "id": "6c3edd45",
   "metadata": {},
   "outputs": [
    {
     "name": "stdout",
     "output_type": "stream",
     "text": [
      "[[6269  995]\n",
      " [ 102  870]]\n",
      "accuracy = 0.87\n",
      "precision = 0.47\n",
      "recall = 0.90\n"
     ]
    }
   ],
   "source": [
    "# Evaluation of results from grid search \n",
    "## After using grid search on the train set, we used the optimized parameters and test the model on the train set\n",
    "logreg=LogisticRegression(C=1, penalty='l2', solver='saga')\n",
    "logreg.fit(X_train_new, y_train_new)\n",
    "y_pred = logreg.predict(X_test_new)\n",
    "\n",
    "\n",
    "cm = confusion_matrix(y_test_new, y_pred)\n",
    "print(cm)\n",
    "\n",
    "accuracy = accuracy_score(y_test_new, y_pred)\n",
    "precision = mt.precision_score(y_test_new, y_pred)\n",
    "recall = mt.recall_score(y_test_new, y_pred)\n",
    "\n",
    "print(\"accuracy = %0.2f\" %accuracy)\n",
    "print(\"precision = %0.2f\" %precision)\n",
    "print(\"recall = %0.2f\" %recall)\n"
   ]
  },
  {
   "cell_type": "markdown",
   "id": "7b385edc",
   "metadata": {},
   "source": [
    "### Knn Feature Selection and Parameter Tuning"
   ]
  },
  {
   "cell_type": "markdown",
   "id": "12f96c14",
   "metadata": {},
   "source": [
    "Because knn has no feature importance, we will be using the features selected by the random forest to tune parameters for this classification model. The only parameter to tune with grid search in knn is the k variable. "
   ]
  },
  {
   "cell_type": "code",
   "execution_count": 21,
   "id": "c82ef566",
   "metadata": {},
   "outputs": [
    {
     "data": {
      "text/plain": [
       "GridSearchCV(cv=10, estimator=KNeighborsClassifier(),\n",
       "             param_grid={'n_neighbors': [1, 5, 10, 15, 20]})"
      ]
     },
     "execution_count": 21,
     "metadata": {},
     "output_type": "execute_result"
    }
   ],
   "source": [
    "grid={ 'n_neighbors':[1, 5, 10, 15,20]}\n",
    "knnc=KNeighborsClassifier()\n",
    "knnc_cv=GridSearchCV(knnc,grid,cv=10)\n",
    "knnc_cv.fit(X_train_imp, y_train_new)"
   ]
  },
  {
   "cell_type": "code",
   "execution_count": 22,
   "id": "c0ad1b9c",
   "metadata": {},
   "outputs": [
    {
     "name": "stdout",
     "output_type": "stream",
     "text": [
      "tuned hpyerparameters :(best parameters)  {'n_neighbors': 15}\n",
      "accuracy : 0.8528805513529187\n"
     ]
    }
   ],
   "source": [
    "print(\"tuned hpyerparameters :(best parameters) \",knnc_cv.best_params_)\n",
    "print(\"accuracy :\",knnc_cv.best_score_)"
   ]
  },
  {
   "cell_type": "code",
   "execution_count": 23,
   "id": "54bcafbf",
   "metadata": {
    "scrolled": true
   },
   "outputs": [
    {
     "name": "stdout",
     "output_type": "stream",
     "text": [
      "[[6083 1181]\n",
      " [ 105  867]]\n",
      "accuracy = 0.84\n",
      "precision = 0.42\n",
      "recall = 0.89\n"
     ]
    }
   ],
   "source": [
    "# Using best parameters from grid search \n",
    "## After using grid search on the train set, we used the optimized parameters and test the model on the train set\n",
    "knnc = KNeighborsClassifier(n_neighbors=15)\n",
    "knnc.fit(X_train_imp, y_train_new)\n",
    "y_pred = knnc.predict(X_test_imp)\n",
    "\n",
    "\n",
    "cm = confusion_matrix(y_test_new, y_pred)\n",
    "print(cm)\n",
    "\n",
    "accuracy = accuracy_score(y_test_new, y_pred)\n",
    "precision = mt.precision_score(y_test_new, y_pred)\n",
    "recall = mt.recall_score(y_test_new, y_pred)\n",
    "\n",
    "print(\"accuracy = %0.2f\" %accuracy)\n",
    "print(\"precision = %0.2f\" %precision)\n",
    "print(\"recall = %0.2f\" %recall)"
   ]
  },
  {
   "cell_type": "code",
   "execution_count": 24,
   "id": "e5dfd29d",
   "metadata": {},
   "outputs": [],
   "source": [
    "# Running additional CV on random forest and log reg to find if recall is significantly different\n",
    "cv=StratifiedKFold(n_splits=10)\n",
    "\n",
    "rec1 = cross_val_score(RandomForest, X_train_imp, y=y_train_new, cv=cv)\n",
    "rec2 = cross_val_score(logreg, X_train_new, y=y_train_new, cv=cv)"
   ]
  },
  {
   "cell_type": "code",
   "execution_count": 25,
   "id": "820e1648",
   "metadata": {},
   "outputs": [
    {
     "name": "stdout",
     "output_type": "stream",
     "text": [
      "Range of: -0.016832291183735148 -0.004444905659516587\n",
      "0.873609257614001 0.8629706591923751\n"
     ]
    }
   ],
   "source": [
    "# Calculating confidence intervals for 95% difference (random forest and logistic regression)\n",
    "t = 2.26 / np.sqrt(10)\n",
    "\n",
    "e = (1-rec1)-(1-rec2)\n",
    "stdtot = np.std(e)\n",
    "dbar = np.mean(e)\n",
    "print ('Range of:', dbar-t*stdtot,dbar+t*stdtot )\n",
    "print (np.mean(rec1), np.mean(rec2))"
   ]
  },
  {
   "cell_type": "markdown",
   "id": "f42f2b37",
   "metadata": {},
   "source": [
    "### Classification Model Comparison Summary"
   ]
  },
  {
   "cell_type": "markdown",
   "id": "e48620d7",
   "metadata": {},
   "source": [
    "The types of classifiers we explored include a logistic regression classifier, a random forest classifier, decision tree classifiers (stump and tree), and a k-nearest neighbors classifier.\n",
    "\n",
    "We performed feature selection and parameter optimization through grid search on the random forest classifier, logistic regression classifier, and the knn classifier. In looking at the initial ROC curves for the models, these three models performed the best. \n",
    "\n",
    "Our goal, as discussed in the evaluation metrics section for the classifier models, is to maximize recall. As seen below, the best model in terms of maximizing recall is the random forest classification model. This difference between the random forest model and logistic regression model is significant with 95% confidence, as calculated above. We compared the recall only with logistic regression as it was the second highest performing. \n",
    "\n",
    "| Model | Recall | \n",
    "| ----------- | ----------- | \n",
    "| Random Forest Classifier | 0.94 | \n",
    "| Logistig Reg Classifier | 0.90 | \n",
    "| Knn Classifier | 0.89 | \n",
    "\n",
    "In looking at the advantages of each model, Knn is useful in that it is easy to implement and performs very quickly because it has no training period. Although it is fast and easy to implement, the downsides include that knn is sensitive to noise since it looks to its neighbors and it has a hard time with larger datasets because of the calculation for distance in each dimension. \n",
    "\n",
    "Random forest has advantages in working well with both categorical and numeric data and reduces overfitting which in turn improves overall accuracy versus decision trees. In spite of these, random forest is costly because of how many decision trees are built and because it is an ensemble of decision trees each variable's significance is hard to interpret. \n",
    "\n",
    "Logistic regression(LR) does well in that it is efficient to train as well as easy to interpret with odds ratios. It has the ability to allow the researcher to see the association between features through the predicted parameters. LR suffers when the dataset has a high dimensionality. LR requires the use of regularization to prevent overfitting at high dimensions -- this per se can be problematic because the regularization can lead to underfitting if the technique is too strict. \n",
    "\n",
    "In terms of feature slection, we selected specific features for both the random forest and logistic regression classification models using recursive feature elimination cross validation. The logistic regression feature selection is included in grid search when running the different L1 and L2 penalties. Random forest chose 38 features, where the top 5 include duration, euribor3m, nr.employed, emp.var.rate, and cons.conf.idx. Duration, the leading predictor, refers to the amount of time the last contact with the customer lasted. These other features are all indicators based around the social and economic status of the time. These results show that a successful marketing campaign usually is directly related to the length of their last phone call, and a customer's willingness to subscribe to a term deposit changes based on how the economy is doing. "
   ]
  },
  {
   "cell_type": "markdown",
   "id": "d146a27a",
   "metadata": {},
   "source": [
    "## Task Two: Regression"
   ]
  },
  {
   "cell_type": "markdown",
   "id": "758d173f",
   "metadata": {},
   "source": [
    "In our second task we created regression models that predict duration, which is how long the last call with a customer lasted in seconds. For this task, we created a linear regression with lasso, a decision tree regressor, a k-nearest neighbors regressor, an support vector regressor, and a linear support vector regressor. \n",
    "\n",
    "We chose not to use a random forest regressor because of the very long runtime in addition to the features selection process using almost every predictor in the dataset. "
   ]
  },
  {
   "cell_type": "code",
   "execution_count": 26,
   "id": "22baaf47",
   "metadata": {},
   "outputs": [],
   "source": [
    "# Data prep for regressionmodels: train test split, setting response and predictors\n",
    "euribor3m = bank_df_processed.euribor3m\n",
    "predictors = bank_df_processed.drop('euribor3m', 1)\n",
    "\n",
    "# Splitting 50/50 because dataset is so large\n",
    "X_train,X_test, y_train, y_test = train_test_split(predictors , euribor3m,  test_size=0.5,random_state=444)\n"
   ]
  },
  {
   "cell_type": "markdown",
   "id": "1809f55c",
   "metadata": {},
   "source": [
    "### Feature Selection for Linear Model, Random Forest, and Decision Tree"
   ]
  },
  {
   "cell_type": "code",
   "execution_count": 27,
   "id": "65599365",
   "metadata": {},
   "outputs": [
    {
     "name": "stdout",
     "output_type": "stream",
     "text": [
      "Linear Regression: Num of features: 3\n",
      "Decision Tree:     Num of features: 2\n"
     ]
    }
   ],
   "source": [
    "# RFE cross validation feature selection for: linear regression (lasso), random forest, and decision tree\n",
    "\n",
    "rfc_lin = linear_model.Lasso(alpha=0.1, random_state=444)\n",
    "rfecv_lin = RFECV(estimator=rfc_lin, step=1, cv=ShuffleSplit(n_splits=3, test_size=0.20, random_state=444), scoring='neg_mean_squared_error')\n",
    "rfecv_lin.fit(X_train, y_train)\n",
    "print('Linear Regression: Num of features: {}'.format(rfecv_lin.n_features_))\n",
    "\n",
    "rfc_dc = DecisionTreeRegressor(random_state=444) \n",
    "rfecv_dc = RFECV(estimator=rfc_dc, step=1, cv=ShuffleSplit(n_splits=5, test_size=0.20, random_state=444), scoring='neg_mean_squared_error')\n",
    "rfecv_dc.fit(X_train, y_train)\n",
    "print('Decision Tree:     Num of features: {}'.format(rfecv_dc.n_features_))"
   ]
  },
  {
   "cell_type": "code",
   "execution_count": 28,
   "id": "979584e6",
   "metadata": {},
   "outputs": [
    {
     "name": "stdout",
     "output_type": "stream",
     "text": [
      "Index(['emp.var.rate', 'cons.conf.idx', 'nr.employed'], dtype='object')\n",
      "Index(['cons.price.idx', 'nr.employed'], dtype='object')\n"
     ]
    }
   ],
   "source": [
    "print(X_train.columns[np.where(rfecv_lin.support_ == True)[0]])\n",
    "print(X_train.columns[np.where(rfecv_dc.support_ == True)[0]])"
   ]
  },
  {
   "cell_type": "code",
   "execution_count": 29,
   "id": "2d94ff7b",
   "metadata": {},
   "outputs": [
    {
     "data": {
      "image/png": "[encoded data removed]",
      "text/plain": [
       "<Figure size 576x576 with 1 Axes>"
      ]
     },
     "metadata": {
      "needs_background": "light"
     },
     "output_type": "display_data"
    }
   ],
   "source": [
    "# Visualizing decision tree feature select\n",
    "X_reg_sel=X_train[X_train.columns[np.where(rfecv_dc.support_ == True)[0]]]\n",
    "\n",
    "dset = pd.DataFrame()\n",
    "dset['attr'] = X_reg_sel.columns\n",
    "dset['importance'] = rfecv_dc.estimator_.feature_importances_\n",
    "\n",
    "dset = dset.sort_values(by='importance', ascending=True)\n",
    "\n",
    "\n",
    "plt.figure(figsize=(8, 8))\n",
    "plt.barh(y=dset['attr'], width=dset['importance'])\n",
    "plt.title('RFECV - Feature Importances', fontsize=20)\n",
    "plt.xlabel('Importance', fontsize=14, labelpad=20)\n",
    "plt.show()"
   ]
  },
  {
   "cell_type": "markdown",
   "id": "ebbe06e2",
   "metadata": {},
   "source": [
    "### Linear Regression"
   ]
  },
  {
   "cell_type": "code",
   "execution_count": 30,
   "id": "e7ac8ada",
   "metadata": {},
   "outputs": [],
   "source": [
    "# Initializing model dictionary for final comparison\n",
    "model_dict=pd.DataFrame(columns=[\"Model\", \"rmse\", \"r2\"])"
   ]
  },
  {
   "cell_type": "code",
   "execution_count": 31,
   "id": "cbb17f5f",
   "metadata": {},
   "outputs": [
    {
     "name": "stdout",
     "output_type": "stream",
     "text": [
      "Fitting 3 folds for each of 5 candidates, totalling 15 fits\n",
      "Best params: -0.018270 using {'alpha': 0.01}\n"
     ]
    }
   ],
   "source": [
    "# Linear Model Lasso\n",
    "X_train_imp_lr = X_train[X_train.columns[np.where(rfecv_lin.support_ == True)[0]]]\n",
    "X_test_imp = X_test[X_train.columns[np.where(rfecv_lin.support_ == True)[0]]]\n",
    "\n",
    "param_grid = {'alpha': [0.01,0.1, 0.5, 0.8, 1]}\n",
    "\n",
    "# Create a based model\n",
    "linreg = linear_model.Lasso()\n",
    "# Instantiate the grid search model\n",
    "cv = RepeatedStratifiedKFold(n_splits=10, n_repeats=3, random_state=444)\n",
    "grid_search = GridSearchCV(estimator = linreg, param_grid = param_grid, \n",
    "                          cv = 3, n_jobs = -1, verbose = 2, scoring='neg_mean_squared_error') \n",
    "\n",
    "grid_result = grid_search.fit(X_train_imp_lr, y_train)\n",
    "\n",
    "# summarize results\n",
    "print(\"Best params: %f using %s\" % (grid_result.best_score_, grid_result.best_params_))"
   ]
  },
  {
   "cell_type": "code",
   "execution_count": 32,
   "id": "cf106ecb",
   "metadata": {},
   "outputs": [
    {
     "name": "stdout",
     "output_type": "stream",
     "text": [
      "RMSE 0.1342458514338273\n",
      "R squared 0.982013554791909\n"
     ]
    }
   ],
   "source": [
    "# Evaluating Linear Reg Lasso final model\n",
    "linreg = linear_model.Lasso(alpha=0.01) # Set with grid search output\n",
    "\n",
    "linreg.fit(X_train_imp_lr,y_train)      \n",
    "yhat = linreg.predict(X_test_imp)   \n",
    "\n",
    "linreg_rmse = mt.mean_squared_error(y_test, yhat,squared=False)\n",
    "print ('RMSE', linreg_rmse)\n",
    "\n",
    "linreg_r2 = mt.r2_score(y_test,yhat)\n",
    "print('R squared', linreg_r2)\n",
    "\n",
    "model_info = pd.DataFrame([[\"Lasso\", linreg_rmse, linreg_r2]], columns=[\"Model\", \"rmse\", \"r2\"])\n",
    "model_dict = model_dict.append(model_info)"
   ]
  },
  {
   "cell_type": "markdown",
   "id": "dd519ad8",
   "metadata": {},
   "source": [
    "### Decision Tree Regresssion Parameter Tuning"
   ]
  },
  {
   "cell_type": "code",
   "execution_count": 33,
   "id": "14e3efbb",
   "metadata": {},
   "outputs": [
    {
     "name": "stdout",
     "output_type": "stream",
     "text": [
      "Fitting 3 folds for each of 72 candidates, totalling 216 fits\n",
      "Best params: -0.000382 using {'max_depth': 90, 'max_features': 2, 'min_samples_leaf': 3, 'min_samples_split': 10}\n"
     ]
    }
   ],
   "source": [
    "# Decision Tree regressor\n",
    "X_train_imp = X_train[X_train.columns[np.where(rfecv_dc.support_ == True)[0]]]\n",
    "X_test_imp = X_test[X_train.columns[np.where(rfecv_dc.support_ == True)[0]]]\n",
    "\n",
    "param_grid = {\n",
    "    'max_depth': [80, 90, 100, 110],\n",
    "    'max_features': [2, 3],\n",
    "    'min_samples_leaf': [3, 4, 5],\n",
    "    'min_samples_split': [8, 10, 12],\n",
    "}\n",
    "# Create a based model\n",
    "dtr = DecisionTreeRegressor()\n",
    "# Instantiate the grid search model\n",
    "cv = RepeatedStratifiedKFold(n_splits=10, n_repeats=3, random_state=444)\n",
    "grid_search = GridSearchCV(estimator = dtr, param_grid = param_grid, \n",
    "                          cv = 3, n_jobs = -1, verbose = 2, scoring='neg_mean_squared_error') \n",
    "\n",
    "grid_result = grid_search.fit(X_train_imp, y_train)\n",
    "\n",
    "# summarize results\n",
    "print(\"Best params: %f using %s\" % (grid_result.best_score_, grid_result.best_params_))"
   ]
  },
  {
   "cell_type": "code",
   "execution_count": 34,
   "id": "d12e9b0b",
   "metadata": {},
   "outputs": [
    {
     "name": "stdout",
     "output_type": "stream",
     "text": [
      "RMSE 0.019661638546131118\n",
      "R squared 0.9996141815362087\n"
     ]
    }
   ],
   "source": [
    "# Evaluating decision tree final model\n",
    "dtr = DecisionTreeRegressor(max_depth=80, max_features=2, min_samples_leaf=4, min_samples_split=12) # Plug in from grid search\n",
    "\n",
    "dtr.fit(X_train_imp,y_train)      \n",
    "yhat = dtr.predict(X_test_imp)   \n",
    "\n",
    "dtr_rmse = mt.mean_squared_error(y_test, yhat,squared=False)\n",
    "print ('RMSE', dtr_rmse)\n",
    "\n",
    "dtr_r2 = mt.r2_score(y_test,yhat)\n",
    "print('R squared', dtr_r2)\n",
    "\n",
    "model_info = pd.DataFrame([[\"Decision Tree\", dtr_rmse, dtr_r2]], columns=[\"Model\", \"rmse\", \"r2\"])\n",
    "model_dict = model_dict.append(model_info)"
   ]
  },
  {
   "cell_type": "markdown",
   "id": "20fcce5e",
   "metadata": {},
   "source": [
    "### Knn Regression Parameter Tuning"
   ]
  },
  {
   "cell_type": "code",
   "execution_count": 35,
   "id": "b8a01a9a",
   "metadata": {},
   "outputs": [
    {
     "name": "stdout",
     "output_type": "stream",
     "text": [
      "Fitting 3 folds for each of 5 candidates, totalling 15 fits\n",
      "Best params: -0.000643 using {'n_neighbors': 2}\n"
     ]
    }
   ],
   "source": [
    "# Using random forest features for knn \n",
    "\n",
    "param_grid = {'n_neighbors':[1,2,3, 5, 10]} #15,20\n",
    "\n",
    "# Create a based model\n",
    "knnr = KNeighborsRegressor()\n",
    "# Instantiate the grid search model\n",
    "cv = RepeatedStratifiedKFold(n_splits=10, n_repeats=3, random_state=444)\n",
    "grid_search = GridSearchCV(estimator = knnr, param_grid = param_grid, \n",
    "                          cv = 3, n_jobs = -1, verbose = 2, scoring='neg_mean_squared_error') \n",
    "\n",
    "grid_result = grid_search.fit(X_train, y_train)\n",
    "\n",
    "# summarize results\n",
    "print(\"Best params: %f using %s\" % (grid_result.best_score_, grid_result.best_params_))\n"
   ]
  },
  {
   "cell_type": "code",
   "execution_count": 36,
   "id": "72b6a53e",
   "metadata": {},
   "outputs": [
    {
     "name": "stdout",
     "output_type": "stream",
     "text": [
      "RMSE 0.032049872072287815\n",
      "R squared 0.9989748292831976\n"
     ]
    }
   ],
   "source": [
    "# Evaluating knn final model\n",
    "knn_r = KNeighborsRegressor(n_neighbors=2) # Plug in grid search parameters\n",
    "    \n",
    "knn_r = knn_r.fit(X_train, y_train)\n",
    "    \n",
    "yhat = knn_r.predict(X_test)     \n",
    "    \n",
    "knnr_rmse = mt.mean_squared_error(y_test, yhat,squared=False)\n",
    "print ('RMSE', knnr_rmse)\n",
    "\n",
    "knnr_r2 = mt.r2_score(y_test,yhat)\n",
    "print('R squared', knnr_r2)\n",
    "\n",
    "model_info = pd.DataFrame([[\"KNN Regression\", knnr_rmse, knnr_r2]], columns=[\"Model\", \"rmse\", \"r2\"])\n",
    "model_dict = model_dict.append(model_info)"
   ]
  },
  {
   "cell_type": "markdown",
   "id": "d3e3f388",
   "metadata": {},
   "source": [
    "### Support Vector Regression Parameter Tuning"
   ]
  },
  {
   "cell_type": "code",
   "execution_count": 37,
   "id": "8f5c6a7b",
   "metadata": {},
   "outputs": [
    {
     "name": "stdout",
     "output_type": "stream",
     "text": [
      "Fitting 3 folds for each of 15 candidates, totalling 45 fits\n",
      "Best params: -0.002949 using {'C': 10, 'epsilon': 0.1}\n"
     ]
    }
   ],
   "source": [
    "# SVR grid search\n",
    "param_grid = {'C':[1, 5, 10, 15,20],'epsilon':[0.1,0.2, 0.5]}\n",
    "\n",
    "# Create a based model\n",
    "svr = SVR()\n",
    "# Instantiate the grid search model\n",
    "cv = RepeatedStratifiedKFold(n_splits=10, n_repeats=3, random_state=444)\n",
    "grid_search = GridSearchCV(estimator = svr, param_grid = param_grid, \n",
    "                          cv = 3, n_jobs = -1, verbose = 2, scoring='neg_mean_squared_error') \n",
    "\n",
    "grid_result = grid_search.fit(X_train, y_train)\n",
    "\n",
    "# summarize results\n",
    "print(\"Best params: %f using %s\" % (grid_result.best_score_, grid_result.best_params_))"
   ]
  },
  {
   "cell_type": "code",
   "execution_count": 38,
   "id": "17a0617c",
   "metadata": {},
   "outputs": [
    {
     "name": "stdout",
     "output_type": "stream",
     "text": [
      "RMSE 0.05485847419804724\n",
      "R squared 0.9969964764595882\n"
     ]
    }
   ],
   "source": [
    "# Evaluate SVR model on test set\n",
    "svr = SVR(C=10, epsilon=0.1) # Plug in parameters from grid search\n",
    "svr.fit(X_train, y_train)\n",
    "yhat = svr.predict(X_test)   \n",
    "\n",
    "svr_rmse = mt.mean_squared_error(y_test, yhat,squared=False)\n",
    "print ('RMSE', svr_rmse)\n",
    "\n",
    "svr_r2 = mt.r2_score(y_test,yhat)\n",
    "print('R squared', svr_r2)\n",
    "\n",
    "model_info = pd.DataFrame([[\"SVR\", svr_rmse, svr_r2]], columns=[\"Model\", \"rmse\", \"r2\"])\n",
    "model_dict = model_dict.append(model_info)"
   ]
  },
  {
   "cell_type": "markdown",
   "id": "a295b72c",
   "metadata": {},
   "source": [
    "### Linear SVM Parameter Tuning"
   ]
  },
  {
   "cell_type": "code",
   "execution_count": 39,
   "id": "1f3bd2c2",
   "metadata": {},
   "outputs": [
    {
     "name": "stdout",
     "output_type": "stream",
     "text": [
      "Fitting 3 folds for each of 24 candidates, totalling 72 fits\n",
      "Best params: -0.002947 using {'C': 10, 'epsilon': 0.1, 'tol': 0.0001}\n"
     ]
    }
   ],
   "source": [
    "# Linear SVR grid search\n",
    "param_grid = {'C':[1, 5, 10, 15],'epsilon':[0.1,0.2, 0.5],'tol':[1e-4,1e-2]}\n",
    "\n",
    "# Create a based model\n",
    "lsvr = LinearSVR()\n",
    "# Instantiate the grid search model\n",
    "cv = RepeatedStratifiedKFold(n_splits=10, n_repeats=3, random_state=444)\n",
    "grid_search = GridSearchCV(estimator = svr, param_grid = param_grid, \n",
    "                          cv = 3, n_jobs = -1, verbose = 2, scoring='neg_mean_squared_error') \n",
    "\n",
    "grid_result = grid_search.fit(X_train, y_train)\n",
    "\n",
    "# summarize results\n",
    "print(\"Best params: %f using %s\" % (grid_result.best_score_, grid_result.best_params_))"
   ]
  },
  {
   "cell_type": "code",
   "execution_count": 40,
   "id": "d02d7264",
   "metadata": {},
   "outputs": [
    {
     "name": "stdout",
     "output_type": "stream",
     "text": [
      "MSE 0.011233227363828806\n",
      "R squared 0.9887889022064645\n"
     ]
    }
   ],
   "source": [
    "lsvr = LinearSVR(C=10, epsilon=0.1, tol=0.0001) # plug in from grid search\n",
    "lsvr.fit(X_train, y_train)\n",
    "yhat = lsvr.predict(X_test)   \n",
    "\n",
    "lsvr_rmse = mt.mean_squared_error(y_test, yhat)\n",
    "print ('MSE', lsvr_rmse)\n",
    "\n",
    "lsvr_r2 = mt.r2_score(y_test,yhat)\n",
    "print('R squared', lsvr_r2)\n",
    "\n",
    "model_info = pd.DataFrame([[\"Linear SVR\", lsvr_rmse, lsvr_r2]], columns=[\"Model\", \"rmse\", \"r2\"])\n",
    "model_dict = model_dict.append(model_info)"
   ]
  },
  {
   "cell_type": "markdown",
   "id": "cbda81ed",
   "metadata": {},
   "source": [
    "### Comparing all Regression Model Metrics"
   ]
  },
  {
   "cell_type": "code",
   "execution_count": 41,
   "id": "5c96ad8b",
   "metadata": {},
   "outputs": [
    {
     "name": "stdout",
     "output_type": "stream",
     "text": [
      "____________________________\n",
      "Linear Model (Lasso): \n",
      "RMSE 0.1342458514338273\n",
      "R squared 0.982013554791909\n",
      "____________________________\n",
      "Decision Tree Regression:\n",
      "RMSE 0.019661638546131118\n",
      "R squared 0.9996141815362087\n",
      "____________________________\n",
      "Knn Regression: \n",
      "RMSE 0.032049872072287815\n",
      "R squared 0.9989748292831976\n",
      "____________________________\n",
      "SVR: \n",
      "RMSE 0.05485847419804724\n",
      "R squared 0.9969964764595882\n",
      "____________________________\n",
      "Linear SVR:\n",
      "RMSE 0.011233227363828806\n",
      "R squared 0.9887889022064645\n",
      "____________________________\n"
     ]
    }
   ],
   "source": [
    "print('____________________________')\n",
    "print(\"Linear Model (Lasso): \")\n",
    "print ('RMSE', linreg_rmse)\n",
    "print('R squared', linreg_r2)\n",
    "print('____________________________')\n",
    "print(\"Decision Tree Regression:\")\n",
    "print ('RMSE', dtr_rmse)\n",
    "print('R squared', dtr_r2)\n",
    "print('____________________________')\n",
    "print(\"Knn Regression: \")\n",
    "print ('RMSE', knnr_rmse)\n",
    "print('R squared', knnr_r2)\n",
    "print('____________________________')\n",
    "print(\"SVR: \")\n",
    "print ('RMSE', svr_rmse)\n",
    "print('R squared', svr_r2)\n",
    "print('____________________________')\n",
    "print(\"Linear SVR:\")\n",
    "print ('RMSE', lsvr_rmse)\n",
    "print('R squared', lsvr_r2)\n",
    "print('____________________________')"
   ]
  },
  {
   "cell_type": "code",
   "execution_count": 42,
   "id": "5d6e7ef1",
   "metadata": {},
   "outputs": [
    {
     "data": {
      "text/plain": [
       "<AxesSubplot:xlabel='Model', ylabel='rmse'>"
      ]
     },
     "execution_count": 42,
     "metadata": {},
     "output_type": "execute_result"
    },
    {
     "data": {
      "image/png": "[encoded data removed]",
      "text/plain": [
       "<Figure size 1080x576 with 1 Axes>"
      ]
     },
     "metadata": {
      "needs_background": "light"
     },
     "output_type": "display_data"
    }
   ],
   "source": [
    "# Plotting each model's rmse\n",
    "plt.figure(figsize=(15,8))\n",
    "sns.barplot(y='rmse', x='Model', data=model_dict)"
   ]
  },
  {
   "cell_type": "code",
   "execution_count": 43,
   "id": "9af8cc96",
   "metadata": {
    "scrolled": true
   },
   "outputs": [
    {
     "data": {
      "text/plain": [
       "<AxesSubplot:xlabel='Model', ylabel='r2'>"
      ]
     },
     "execution_count": 43,
     "metadata": {},
     "output_type": "execute_result"
    },
    {
     "data": {
      "image/png": "[encoded data removed]",
      "text/plain": [
       "<Figure size 1080x576 with 1 Axes>"
      ]
     },
     "metadata": {
      "needs_background": "light"
     },
     "output_type": "display_data"
    }
   ],
   "source": [
    "# Plotting each model's r squared\n",
    "plt.figure(figsize=(15,8))\n",
    "sns.barplot(y='r2', x='Model', data=model_dict)"
   ]
  },
  {
   "cell_type": "markdown",
   "id": "6bf1e528",
   "metadata": {},
   "source": [
    "### Regression Model Comparison Summary"
   ]
  },
  {
   "cell_type": "markdown",
   "id": "bd3e8301",
   "metadata": {},
   "source": [
    "In each of the regression models, the response variable we were predicting was euribor3m. This is a daily reference rate produced by the by the European Money Markets Institute, based on the averaged interest rates at which Eurozone banks offer to lend unsecured funds to other banks in the euro wholesale money market.\t\n",
    "\n",
    "Each of the models had very high r-squared values with not much variation between regression models. The model that performed the best in terms of minimizing the root mean squared error was the linear support vector regression model, with an RMSE of 0.01. The linear SVR regressor is almost 2 times lower than the decision tree regressor. \n",
    "\n",
    "| Model | RMSE | \n",
    "| ----------- | ----------- | \n",
    "| Lasso | 0.1342 | \n",
    "| Decision Tree | 0.0197 | \n",
    "| Knn Reg | 0.0320 | \n",
    "| SVR | 0.0549 | \n",
    "| Linear SVR | 0.0105 | \n",
    "\n",
    "In looking at the advantages of each model, the random forest and knn advantages are discussed in the Classification Model Comparison Summary. Because logistic regresion is simply a transformation on linear regression, these same advantages of easy interpretibility and efficiency in training apply. \n",
    "\n",
    "Decision tree regression models are easily implemented and interpreted. They are nonparametric, meaning there are no prior assumptions made about the data like in the cases of SVR or logistic regression. \n",
    "\n",
    "SVR is advantageous  in that it is robust to outliers, high prediction accuracy, and easy implementation. However, with large datasets it can easily scale to a very long runtime. \n",
    "\n",
    "We used recursive feature elimnation with cross validation to find the most important features in the lasso and decision tree regression models. In these findings, we saw that the following features were chosen for lasso: 'emp.var.rate', 'cons.conf.idx', 'nr.employed'. The decision tree regressor chose all the same features except 'emp.var.rate'. These features represent the employment variation rate quarterly indicator, the consumer confidence index monthly indicator, and the quarterly indicator of number of employees. All attributes in the dataset can be classified into attributes about the specific customer, attributes about the marketing campaign, and attributes based around the social and economic status of the time. As you can see, the recursive feature elimination chose all indicators of the social and economic status at the time of the campaign. While these results are not very useful for the bank, it does prove that all these indicators are closely related throughout time."
   ]
  },
  {
   "cell_type": "markdown",
   "id": "94cb81a0",
   "metadata": {},
   "source": [
    "## Deployment"
   ]
  },
  {
   "cell_type": "markdown",
   "id": "b3831ccd",
   "metadata": {},
   "source": [
    "This specific dataset is from the Portuguese banking institution and related to their direct marketing campaigns. The classification models explored above would interest the bank in many ways. The attributes that built the prediction model can be classified into attributes about the specific customer, attributes about the marketing campaign, and attributes based around the social and economic status of the time. The bank can predict whether or not a new customer will subscribe to a term deposit based on customer attributes, which will tell them where to devote their resources towards likely ‘successes’ in order to maximize profit. This data will also show them what a successful marketing campaign looks like (e.g.  when a customer was contacted, for how long, what frequency of calls the customer received, etc.). Lastly, it will give them social and economic indicators on when the best time to run a successful campaign would be. \n",
    "\n",
    "The classification model's value would be determined by comparing the ratio of successes to failures before the model was implemented and after the model was implemented. Ideally we would want to see the successes rising when all of the above recommendations are taken into consideration. As time goes on and more telemarketing campaigns occur, these new datapoints should be added to the dataset to further refine the model and dynamically improve the model over time. "
   ]
  },
  {
   "cell_type": "code",
   "execution_count": 44,
   "id": "83091a53",
   "metadata": {},
   "outputs": [
    {
     "name": "stdout",
     "output_type": "stream",
     "text": [
      "694.466245174408\n"
     ]
    }
   ],
   "source": [
    "# End timer for notebook\n",
    "global_t_end = time.time() - global_t_start\n",
    "print(global_t_end)"
   ]
  }
 ],
 "metadata": {
  "kernelspec": {
   "display_name": "Python 3",
   "language": "python",
   "name": "python3"
  },
  "language_info": {
   "codemirror_mode": {
    "name": "ipython",
    "version": 3
   },
   "file_extension": ".py",
   "mimetype": "text/x-python",
   "name": "python",
   "nbconvert_exporter": "python",
   "pygments_lexer": "ipython3",
   "version": "3.8.8"
  }
 },
 "nbformat": 4,
 "nbformat_minor": 5
}
